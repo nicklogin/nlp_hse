{
 "cells": [
  {
   "cell_type": "code",
   "execution_count": 4,
   "metadata": {},
   "outputs": [],
   "source": [
    "with open('data/crime_and_punishment.txt', 'r', encoding='utf-8') as source:\n",
    "    data = source.read()"
   ]
  },
  {
   "cell_type": "code",
   "execution_count": 2,
   "metadata": {},
   "outputs": [
    {
     "data": {
      "text/plain": [
       "'Спасибо, что скачали книгу в бесплатной электронной библиотеке Royallib.ru: http://royallib.ru\\n\\nВсе '"
      ]
     },
     "execution_count": 2,
     "metadata": {},
     "output_type": "execute_result"
    }
   ],
   "source": [
    "data[:100]"
   ]
  },
  {
   "cell_type": "markdown",
   "metadata": {},
   "source": [
    "Посмотрим, сколько строк в книге:"
   ]
  },
  {
   "cell_type": "code",
   "execution_count": 3,
   "metadata": {},
   "outputs": [
    {
     "data": {
      "text/plain": [
       "8581"
      ]
     },
     "execution_count": 3,
     "metadata": {},
     "output_type": "execute_result"
    }
   ],
   "source": [
    "len(data.splitlines())"
   ]
  },
  {
   "cell_type": "markdown",
   "metadata": {},
   "source": [
    "8581 строка - вполне достаточно!"
   ]
  },
  {
   "cell_type": "markdown",
   "metadata": {},
   "source": [
    "Так как средняя длина предложения в русском языке - 10,38 слов, а средняя длина слова - 5,28 символа, то для того, чтобы выделить около 50 предложений, возьмём первые 2700 символов"
   ]
  },
  {
   "cell_type": "code",
   "execution_count": 5,
   "metadata": {},
   "outputs": [
    {
     "data": {
      "text/plain": [
       "2740.32"
      ]
     },
     "execution_count": 5,
     "metadata": {},
     "output_type": "execute_result"
    }
   ],
   "source": [
    "50 * 10.38 * 5.28"
   ]
  },
  {
   "cell_type": "code",
   "execution_count": 6,
   "metadata": {},
   "outputs": [],
   "source": [
    "test_train_sample_raw = data[:2700]"
   ]
  },
  {
   "cell_type": "code",
   "execution_count": 8,
   "metadata": {},
   "outputs": [
    {
     "name": "stdout",
     "output_type": "stream",
     "text": [
      "Спасибо, что скачали книгу в бесплатной электронной библиотеке Royallib.ru: http://royallib.ru\n",
      "\n",
      "Все книги автора: http://royallib.ru/author/dostoevskiy_fedor_.html\n",
      "\n",
      "Эта же книга в других форматах: http://royallib.ru/book/dostoevskiy_fedor_/prestuplenie_i_nakazanie.html\n",
      "\n",
      "Приятного чтения!\n",
      "\n",
      "\n",
      "\n",
      "\n",
      "\n",
      "Ф. ДОСТОЕВСКИЙ\n",
      "\n",
      "ПРЕСТУПЛЕНИЕ И НАКАЗАНИЕ\n",
      "\n",
      "\n",
      "\n",
      "РОМАН В ШЕСТИ ЧАСТЯХ С ЭПИЛОГОМ\n",
      "\n",
      "Вступительная статья и примечания Г. Фридлендера\n",
      "\n",
      "Иллюстрации Д. Шмаринова\n",
      "\n",
      "\n",
      "\n",
      "\n",
      "\n",
      "«ПРЕСТУПЛЕНИЕ И НАКАЗАНИЕ» ДОСТОЕВСКОГО\n",
      "\n",
      "\n",
      "1\n",
      "\n",
      "\n",
      "Роман Ф. М. Достоевского «Преступление и наказание» принадлежит к числу тех великих произведений мировой литературы, ценность которых со временем не умаляется, но возрастает для каждого следующего поколения. Подобно «Божественной Комедии», «Гамлету», «Фаусту», «Войне и миру» или «Анне Карениной», «Преступление и наказание» давно сделалось во всем мире одной из самых любимых и широко читаемых книг. Образ Родиона Раскольникова стал вечным спутником человечества.\n",
      "\n",
      "В центре «Преступления и наказания» находится тот болезненный и острый вопрос, который явился одним из главных вопросов для всей реалистической литературы XIX века. Это — вопрос о возможных путях развития человеческой личности в тех новых условиях жизни, которые сложились в Западной Европе после французской буржуазной революции XVIII века и которые после крестьянской реформы 1861 года установились также и в России. Романисты-просветители, еще не видевшие (по выражению Ленина) противоречий того строя жизни, который вырастал из крепостного,[1 - В. И. Ленин, Полное собрание сочинений, т. 2, стр. 520.] верили, что уничтожение абсолютизма и сословности сделает возможным всестороннее развитие человека. Но после победы буржуазии стало очевидным, что вера в свободное, гармоническое развитие личности в условиях общества, основанного на эгоистической «войне всех против всех», была иллюзией. Бальзак, Стендаль, Диккенс, Теккерей, Флобер и другие западноевропейские романисты блестяще показали, что буржуазное общество хотя и способствует пробуждению личности, вместе с тем является величайшим препятствием для ее развития, ведет к ее духовной и физической гибели.\n",
      "\n",
      "Великие русские писатели XIX века, начиная с Пушкина, так же, как их современники на Западе, высоко подняли знамя борьбы за свободное развитие личности. Но Пушкин в «Цыганах», «Евгении Онегине», «Пиковой даме» отчетливо показал и то, что индивидуалистическая жизненная философия и мораль личности, «глядящей в Наполеоны», суха и бесчеловечна. Со времен великого поэта в русской литературе получили выражение две, на первый взгляд противоположные между собой, но в действительности взаимно связанные, дополняющие друг друга темы: тема защиты прав личности и тема критичес\n"
     ]
    }
   ],
   "source": [
    "print(test_train_sample_raw)"
   ]
  },
  {
   "cell_type": "code",
   "execution_count": 5,
   "metadata": {},
   "outputs": [],
   "source": [
    "sent_tokenized = ['Спасибо, что скачали книгу в бесплатной электронной библиотеке Royallib.ru: http://royallib.ru',\n",
    "                 'Все книги автора: http://royallib.ru/author/dostoevskiy_fedor_.html',\n",
    "                 'Эта же книга в других форматах: http://royallib.ru/book/dostoevskiy_fedor_/prestuplenie_i_nakazanie.html',\n",
    "                 'Приятного чтения!',\n",
    "                 'Ф. ДОСТОЕВСКИЙ',\n",
    "                 'ПРЕСТУПЛЕНИЕ И НАКАЗАНИЕ',\n",
    "                 'РОМАН В ШЕСТИ ЧАСТЯХ С ЭПИЛОГОМ',\n",
    "                 'Вступительная статья и примечания Г. Фридлендера',\n",
    "                 'Иллюстрации Д. Шмаринова',\n",
    "                 '«ПРЕСТУПЛЕНИЕ И НАКАЗАНИЕ» ДОСТОЕВСКОГО',\n",
    "                 '1',\n",
    "                 'Роман Ф. М. Достоевского «Преступление и наказание» принадлежит к числу тех великих произведений мировой литературы, ценность которых со временем не умаляется, но возрастает для каждого следующего поколения.',\n",
    "                 'Подобно «Божественной Комедии», «Гамлету», «Фаусту», «Войне и миру» или «Анне Карениной», «Преступление и наказание» давно сделалось во всем мире одной из самых любимых и широко читаемых книг.',\n",
    "                 'Образ Родиона Раскольникова стал вечным спутником человечества.',\n",
    "                 'В центре «Преступления и наказания» находится тот болезненный и острый вопрос, который явился одним из главных вопросов для всей реалистической литературы XIX века.',\n",
    "                 'Это — вопрос о возможных путях развития человеческой личности в тех новых условиях жизни, которые сложились в Западной Европе после французской буржуазной революции XVIII века и которые после крестьянской реформы 1861 года установились также и в России.',\n",
    "                 'Романисты-просветители, еще не видевшие (по выражению Ленина) противоречий того строя жизни, который вырастал из крепостного,[1 - В. И. Ленин, Полное собрание сочинений, т. 2, стр. 520.] верили, что уничтожение абсолютизма и сословности сделает возможным всестороннее развитие человека.',\n",
    "                 'Но после победы буржуазии стало очевидным, что вера в свободное, гармоническое развитие личности в условиях общества, основанного на эгоистической «войне всех против всех», была иллюзией.',\n",
    "                 'Бальзак, Стендаль, Диккенс, Теккерей, Флобер и другие западноевропейские романисты блестяще показали, что буржуазное общество хотя и способствует пробуждению личности, вместе с тем является величайшим препятствием для ее развития, ведет к ее духовной и физической гибели.',\n",
    "                 'Великие русские писатели XIX века, начиная с Пушкина, так же, как их современники на Западе, высоко подняли знамя борьбы за свободное развитие личности.',\n",
    "                 'Но Пушкин в «Цыганах», «Евгении Онегине», «Пиковой даме» отчетливо показал и то, что индивидуалистическая жизненная философия и мораль личности, «глядящей в Наполеоны», суха и бесчеловечна.']"
   ]
  },
  {
   "cell_type": "code",
   "execution_count": 6,
   "metadata": {},
   "outputs": [
    {
     "data": {
      "text/plain": [
       "21"
      ]
     },
     "execution_count": 6,
     "metadata": {},
     "output_type": "execute_result"
    }
   ],
   "source": [
    "len(sent_tokenized)"
   ]
  },
  {
   "cell_type": "markdown",
   "metadata": {},
   "source": [
    "21 предложение - мало!"
   ]
  },
  {
   "cell_type": "code",
   "execution_count": 13,
   "metadata": {},
   "outputs": [
    {
     "name": "stdout",
     "output_type": "stream",
     "text": [
      "нах», «Евгении Онегине», «Пиковой даме» отчетливо показал и то, что индивидуалистическая жизненная философия и мораль личности, «глядящей в Наполеоны», суха и бесчеловечна. Со времен великого поэта в русской литературе получили выражение две, на первый взгляд противоположные между собой, но в действительности взаимно связанные, дополняющие друг друга темы: тема защиты прав личности и тема критического анализа и развенчания принципов буржуазно-индивидуалистической философии и морали — морали человека, который «для себя лишь» хочет воли. Органическое объединение в «Преступлении и наказании» этих двух тем определяет глубокий гуманистический пафос этого романа, его неумирающее значение для настоящего и будущего.\n",
      "\n",
      "Достоевский писал в конце своей жизни, что его заветной мечтой как человека и писателя всегда оставалось стремление помочь «девяти десятым» человечества, угнетенным и обездоленным в его эпоху в России и во всем мире, обрести достойное человека существование, завоевать путь в «царство мысли и света».[2 - Ф. М. Достоевский, Дневник писателя за 1873 и 1876 годы, ГИЗ, М.—Л. 1929, стр. 173.] Во всей реалистической прозе XIX века нет другого произведения, которое с таким бесстрашием и такою поистине шекспировскою мощью изображало картины страданий широких масс, вызванные нищетой, социальным неравенством и угнетением, как «Преступление и наказание». Но роман Достоевского — не только полное захватывающего трагизма изображение обездоленности и социального зла. Это — и апелляция к человеческой совести и разуму. Вместе со своим главным героем Достоевский гневно отвергает как оскорбительные для человека взгляды многих (в том числе ряда религиозных) мыслителей своей эпохи, которые полагали, что страдания и нищета неизбежны во всяком обществе, что они составляют извечный удел человечества. Великий русский писатель страстно защищает идею нравственного достоинства человека, который не хочет оставаться ничтожной «вошью», не желает безмолвно подчиняться и терпеть, но всем своим существом восстает против общественной несправедливости, не хочет и не может примириться с нею.\n",
      "\n",
      "\n",
      "И вместе с тем Достоевский утверждает другое. Писатели-романтики начала XIX века были готовы идеализир\n"
     ]
    }
   ],
   "source": [
    "print(data[2300:4500])"
   ]
  },
  {
   "cell_type": "code",
   "execution_count": 7,
   "metadata": {},
   "outputs": [],
   "source": [
    "sent_tokenized += ['Со времен великого поэта в русской литературе получили выражение две, на первый взгляд противоположные между собой, но в действительности взаимно связанные, дополняющие друг друга темы: тема защиты прав личности и тема критического анализа и развенчания принципов буржуазно-индивидуалистической философии и морали — морали человека, который «для себя лишь» хочет воли.',\n",
    "                  'Органическое объединение в «Преступлении и наказании» этих двух тем определяет глубокий гуманистический пафос этого романа, его неумирающее значение для настоящего и будущего.',\n",
    "                  'Достоевский писал в конце своей жизни, что его заветной мечтой как человека и писателя всегда оставалось стремление помочь «девяти десятым» человечества, угнетенным и обездоленным в его эпоху в России и во всем мире, обрести достойное человека существование, завоевать путь в «царство мысли и света».[2 - Ф. М. Достоевский, Дневник писателя за 1873 и 1876 годы, ГИЗ, М.—Л. 1929, стр. 173.]',\n",
    "                  'Во всей реалистической прозе XIX века нет другого произведения, которое с таким бесстрашием и такою поистине шекспировскою мощью изображало картины страданий широких масс, вызванные нищетой, социальным неравенством и угнетением, как «Преступление и наказание».',\n",
    "                  'Но роман Достоевского — не только полное захватывающего трагизма изображение обездоленности и социального зла.',\n",
    "                  'Это — и апелляция к человеческой совести и разуму.',\n",
    "                  'Вместе со своим главным героем Достоевский гневно отвергает как оскорбительные для человека взгляды многих (в том числе ряда религиозных) мыслителей своей эпохи, которые полагали, что страдания и нищета неизбежны во всяком обществе, что они составляют извечный удел человечества.',\n",
    "                  'Великий русский писатель страстно защищает идею нравственного достоинства человека, который не хочет оставаться ничтожной «вошью», не желает безмолвно подчиняться и терпеть, но всем своим существом восстает против общественной несправедливости, не хочет и не может примириться с нею.',\n",
    "                  'И вместе с тем Достоевский утверждает другое.']"
   ]
  },
  {
   "cell_type": "code",
   "execution_count": 8,
   "metadata": {},
   "outputs": [
    {
     "data": {
      "text/plain": [
       "30"
      ]
     },
     "execution_count": 8,
     "metadata": {},
     "output_type": "execute_result"
    }
   ],
   "source": [
    "len(sent_tokenized)"
   ]
  },
  {
   "cell_type": "markdown",
   "metadata": {},
   "source": [
    "30 предложений - отлично!"
   ]
  },
  {
   "cell_type": "code",
   "execution_count": 14,
   "metadata": {},
   "outputs": [
    {
     "name": "stdout",
     "output_type": "stream",
     "text": [
      "Спасибо, что скачали книгу в бесплатной электронной библиотеке Royallib.ru: http://royallib.ru\n",
      "\n",
      "Все книги автора: http://royallib.ru/author/dostoevskiy_fedor_.html\n",
      "\n",
      "Эта же книга в других форматах: http://royallib.ru/book/dostoevskiy_fedor_/prestuplenie_i_nakazanie.html\n",
      "\n",
      "Приятного чтения!\n",
      "\n",
      "\n",
      "\n",
      "\n",
      "\n",
      "Ф. ДОСТОЕВСКИЙ\n",
      "\n",
      "ПРЕСТУПЛЕНИЕ И НАКАЗАНИЕ\n",
      "\n",
      "\n",
      "\n",
      "РОМАН В ШЕСТИ ЧАСТЯХ С ЭПИЛОГОМ\n",
      "\n",
      "Вступительная статья и примечания Г. Фридлендера\n",
      "\n",
      "Иллюстрации Д. Шмаринова\n",
      "\n",
      "\n",
      "\n",
      "\n",
      "\n",
      "«ПРЕСТУПЛЕНИЕ И НАКАЗАНИЕ» ДОСТОЕВСКОГО\n",
      "\n",
      "\n",
      "1\n",
      "\n",
      "\n",
      "Роман Ф. М. Достоевского «Преступление и наказание» принадлежит к числу тех великих произведений мировой литературы, ценность которых со временем не умаляется, но возрастает для каждого следующего поколения. Подобно «Божественной Комедии», «Гамлету», «Фаусту», «Войне и миру» или «Анне Карениной», «Преступление и наказание» давно сделалось во всем мире одной из самых любимых и широко читаемых книг. Образ Родиона Раскольникова стал вечным спутником человечества.\n",
      "\n",
      "В центре «Преступления и наказания» находится тот болезненный и острый вопрос, который явился одним из главных вопросов для всей реалистической литературы XIX века. Это — вопрос о возможных путях развития человеческой личности в тех новых условиях жизни, которые сложились в Западной Европе после французской буржуазной революции XVIII века и которые после крестьянской реформы 1861 года установились также и в России. Романисты-просветители, еще не видевшие (по выражению Ленина) противоречий того строя жизни, который вырастал из крепостного,[1 - В. И. Ленин, Полное собрание сочинений, т. 2, стр. 520.] верили, что уничтожение абсолютизма и сословности сделает возможным всестороннее развитие человека. Но после победы буржуазии стало очевидным, что вера в свободное, гармоническое развитие личности в условиях общества, основанного на эгоистической «войне всех против всех», была иллюзией. Бальзак, Стендаль, Диккенс, Теккерей, Флобер и другие западноевропейские романисты блестяще показали, что буржуазное общество хотя и способствует пробуждению личности, вместе с тем является величайшим препятствием для ее развития, ведет к ее духовной и физической гибели.\n",
      "\n",
      "Великие русские писатели XIX века, начиная с Пушкина, так же, как их современники на Западе, высоко подняли знамя борьбы за свободное развитие личности. Но Пушкин в «Цыганах», «Евгении Онегине», «Пиковой даме» отчетливо показал и то, что индивидуалистическая жизненная философия и мораль личности, «глядящей в Наполеоны», суха и бесчеловечна. Со времен великого поэта в русской литературе получили выражение две, на первый взгляд противоположные между собой, но в действительности взаимно связанные, дополняющие друг друга темы: тема защиты прав личности и тема критического анализа и развенчания принципов буржуазно-индивидуалистической философии и морали — морали человека, который «для себя лишь» хочет воли. Органическое объединение в «Преступлении и наказании» этих двух тем определяет глубокий гуманистический пафос этого романа, его неумирающее значение для настоящего и будущего.\n",
      "\n",
      "Достоевский писал в конце своей жизни, что его заветной мечтой как человека и писателя всегда оставалось стремление помочь «девяти десятым» человечества, угнетенным и обездоленным в его эпоху в России и во всем мире, обрести достойное человека существование, завоевать путь в «царство мысли и света».[2 - Ф. М. Достоевский, Дневник писателя за 1873 и 1876 годы, ГИЗ, М.—Л. 1929, стр. 173.] Во всей реалистической прозе XIX века нет другого произведения, которое с таким бесстрашием и такою поистине шекспировскою мощью изображало картины страданий широких масс, вызванные нищетой, социальным неравенством и угнетением, как «Преступление и наказание». Но роман Достоевского — не только полное захватывающего трагизма изображение обездоленности и социального зла. Это — и апелляция к человеческой совести и разуму. Вместе со своим главным героем Достоевский гневно отвергает как оскорбительные для человека взгляды многих (в том числе ряда религиозных) мыслителей своей эпохи, которые полагали, что страдания и нищета неизбежны во всяком обществе, что они составляют извечный удел человечества. Великий русский писатель страстно защищает идею нравственного достоинства человека, который не хочет оставаться ничтожной «вошью», не желает безмолвно подчиняться и терпеть, но всем своим существом восстает против общественной несправедливости, не хочет и не может примириться с нею.\n",
      "\n",
      "\n",
      "И вместе с тем Достоевский утверждает другое.\n"
     ]
    }
   ],
   "source": [
    "print(data[:4443])"
   ]
  },
  {
   "cell_type": "markdown",
   "metadata": {},
   "source": [
    "Сохраним исходный текст, заменив нестандартные пробелы, которые не \"переживают\" сплиттинга по регулярному выражению:"
   ]
  },
  {
   "cell_type": "code",
   "execution_count": 83,
   "metadata": {},
   "outputs": [],
   "source": [
    "raw_text = data[:4443].replace('\\xa0', ' ')"
   ]
  },
  {
   "cell_type": "markdown",
   "metadata": {},
   "source": [
    "Напишем регулярное выражение для токенизации, используя Lookbehind & Lookahead:"
   ]
  },
  {
   "cell_type": "code",
   "execution_count": 11,
   "metadata": {},
   "outputs": [],
   "source": [
    "import re"
   ]
  },
  {
   "cell_type": "code",
   "execution_count": 15,
   "metadata": {},
   "outputs": [],
   "source": [
    "regex = '(?<=[\\.\\?\\!])\\s+(?=[А-Я])'"
   ]
  },
  {
   "cell_type": "code",
   "execution_count": 85,
   "metadata": {},
   "outputs": [
    {
     "data": {
      "text/plain": [
       "['Спасибо, что скачали книгу в бесплатной электронной библиотеке Royallib.ru: http://royallib.ru\\n\\nВсе книги автора: http://royallib.ru/author/dostoevskiy_fedor_.html\\n\\nЭта же книга в других форматах: http://royallib.ru/book/dostoevskiy_fedor_/prestuplenie_i_nakazanie.html\\n\\nПриятного чтения!',\n",
       " 'Ф.',\n",
       " 'ДОСТОЕВСКИЙ\\n\\nПРЕСТУПЛЕНИЕ И НАКАЗАНИЕ\\n\\n\\n\\nРОМАН В ШЕСТИ ЧАСТЯХ С ЭПИЛОГОМ\\n\\nВступительная статья и примечания Г.',\n",
       " 'Фридлендера\\n\\nИллюстрации Д.',\n",
       " 'Шмаринова\\n\\n\\n\\n\\n\\n«ПРЕСТУПЛЕНИЕ И НАКАЗАНИЕ» ДОСТОЕВСКОГО\\n\\n\\n1\\n\\n\\nРоман Ф.',\n",
       " 'М.',\n",
       " 'Достоевского «Преступление и наказание» принадлежит к числу тех великих произведений мировой литературы, ценность которых со временем не умаляется, но возрастает для каждого следующего поколения.',\n",
       " 'Подобно «Божественной Комедии», «Гамлету», «Фаусту», «Войне и миру» или «Анне Карениной», «Преступление и наказание» давно сделалось во всем мире одной из самых любимых и широко читаемых книг.',\n",
       " 'Образ Родиона Раскольникова стал вечным спутником человечества.',\n",
       " 'В центре «Преступления и наказания» находится тот болезненный и острый вопрос, который явился одним из главных вопросов для всей реалистической литературы XIX века.',\n",
       " 'Это — вопрос о возможных путях развития человеческой личности в тех новых условиях жизни, которые сложились в Западной Европе после французской буржуазной революции XVIII века и которые после крестьянской реформы 1861 года установились также и в России.',\n",
       " 'Романисты-просветители, еще не видевшие (по выражению Ленина) противоречий того строя жизни, который вырастал из крепостного,[1 - В.',\n",
       " 'И.',\n",
       " 'Ленин, Полное собрание сочинений, т. 2, стр. 520.] верили, что уничтожение абсолютизма и сословности сделает возможным всестороннее развитие человека.',\n",
       " 'Но после победы буржуазии стало очевидным, что вера в свободное, гармоническое развитие личности в условиях общества, основанного на эгоистической «войне всех против всех», была иллюзией.',\n",
       " 'Бальзак, Стендаль, Диккенс, Теккерей, Флобер и другие западноевропейские романисты блестяще показали, что буржуазное общество хотя и способствует пробуждению личности, вместе с тем является величайшим препятствием для ее развития, ведет к ее духовной и физической гибели.',\n",
       " 'Великие русские писатели XIX века, начиная с Пушкина, так же, как их современники на Западе, высоко подняли знамя борьбы за свободное развитие личности.',\n",
       " 'Но Пушкин в «Цыганах», «Евгении Онегине», «Пиковой даме» отчетливо показал и то, что индивидуалистическая жизненная философия и мораль личности, «глядящей в Наполеоны», суха и бесчеловечна.',\n",
       " 'Со времен великого поэта в русской литературе получили выражение две, на первый взгляд противоположные между собой, но в действительности взаимно связанные, дополняющие друг друга темы: тема защиты прав личности и тема критического анализа и развенчания принципов буржуазно-индивидуалистической философии и морали — морали человека, который «для себя лишь» хочет воли.',\n",
       " 'Органическое объединение в «Преступлении и наказании» этих двух тем определяет глубокий гуманистический пафос этого романа, его неумирающее значение для настоящего и будущего.',\n",
       " 'Достоевский писал в конце своей жизни, что его заветной мечтой как человека и писателя всегда оставалось стремление помочь «девяти десятым» человечества, угнетенным и обездоленным в его эпоху в России и во всем мире, обрести достойное человека существование, завоевать путь в «царство мысли и света».[2 - Ф.',\n",
       " 'М.',\n",
       " 'Достоевский, Дневник писателя за 1873 и 1876 годы, ГИЗ, М.—Л. 1929, стр. 173.] Во всей реалистической прозе XIX века нет другого произведения, которое с таким бесстрашием и такою поистине шекспировскою мощью изображало картины страданий широких масс, вызванные нищетой, социальным неравенством и угнетением, как «Преступление и наказание».',\n",
       " 'Но роман Достоевского — не только полное захватывающего трагизма изображение обездоленности и социального зла.',\n",
       " 'Это — и апелляция к человеческой совести и разуму.',\n",
       " 'Вместе со своим главным героем Достоевский гневно отвергает как оскорбительные для человека взгляды многих (в том числе ряда религиозных) мыслителей своей эпохи, которые полагали, что страдания и нищета неизбежны во всяком обществе, что они составляют извечный удел человечества.',\n",
       " 'Великий русский писатель страстно защищает идею нравственного достоинства человека, который не хочет оставаться ничтожной «вошью», не желает безмолвно подчиняться и терпеть, но всем своим существом восстает против общественной несправедливости, не хочет и не может примириться с нею.',\n",
       " 'И вместе с тем Достоевский утверждает другое.']"
      ]
     },
     "execution_count": 85,
     "metadata": {},
     "output_type": "execute_result"
    }
   ],
   "source": [
    "auto_tokenized1 = re.split(regex, raw_text)\n",
    "auto_tokenized1"
   ]
  },
  {
   "cell_type": "markdown",
   "metadata": {},
   "source": [
    "Видим, что разбиение получилось не очень - не учитываются сокращения, сноски, ссылки и вынесенные названия."
   ]
  },
  {
   "cell_type": "markdown",
   "metadata": {},
   "source": [
    "Попробуем оценить качество разбиения при помощи стандартных метрик классификации, проверяя правильно ли символ был определён как разбивающий или нет:"
   ]
  },
  {
   "cell_type": "code",
   "execution_count": 20,
   "metadata": {},
   "outputs": [],
   "source": [
    "from sklearn.metrics import classification_report, accuracy_score"
   ]
  },
  {
   "cell_type": "markdown",
   "metadata": {},
   "source": [
    "С помощью difflib'а определим, какие пробелы/последовательности переносов в тексте были разбивающими:"
   ]
  },
  {
   "cell_type": "code",
   "execution_count": 22,
   "metadata": {},
   "outputs": [],
   "source": [
    "sent_tokenized_clayed = ''.join(sent_tokenized)"
   ]
  },
  {
   "cell_type": "code",
   "execution_count": 23,
   "metadata": {},
   "outputs": [],
   "source": [
    "from difflib import SequenceMatcher"
   ]
  },
  {
   "cell_type": "code",
   "execution_count": 25,
   "metadata": {},
   "outputs": [
    {
     "name": "stdout",
     "output_type": "stream",
     "text": [
      "Help on class SequenceMatcher in module difflib:\n",
      "\n",
      "class SequenceMatcher(builtins.object)\n",
      " |  SequenceMatcher is a flexible class for comparing pairs of sequences of\n",
      " |  any type, so long as the sequence elements are hashable.  The basic\n",
      " |  algorithm predates, and is a little fancier than, an algorithm\n",
      " |  published in the late 1980's by Ratcliff and Obershelp under the\n",
      " |  hyperbolic name \"gestalt pattern matching\".  The basic idea is to find\n",
      " |  the longest contiguous matching subsequence that contains no \"junk\"\n",
      " |  elements (R-O doesn't address junk).  The same idea is then applied\n",
      " |  recursively to the pieces of the sequences to the left and to the right\n",
      " |  of the matching subsequence.  This does not yield minimal edit\n",
      " |  sequences, but does tend to yield matches that \"look right\" to people.\n",
      " |  \n",
      " |  SequenceMatcher tries to compute a \"human-friendly diff\" between two\n",
      " |  sequences.  Unlike e.g. UNIX(tm) diff, the fundamental notion is the\n",
      " |  longest *contiguous* & junk-free matching subsequence.  That's what\n",
      " |  catches peoples' eyes.  The Windows(tm) windiff has another interesting\n",
      " |  notion, pairing up elements that appear uniquely in each sequence.\n",
      " |  That, and the method here, appear to yield more intuitive difference\n",
      " |  reports than does diff.  This method appears to be the least vulnerable\n",
      " |  to synching up on blocks of \"junk lines\", though (like blank lines in\n",
      " |  ordinary text files, or maybe \"<P>\" lines in HTML files).  That may be\n",
      " |  because this is the only method of the 3 that has a *concept* of\n",
      " |  \"junk\" <wink>.\n",
      " |  \n",
      " |  Example, comparing two strings, and considering blanks to be \"junk\":\n",
      " |  \n",
      " |  >>> s = SequenceMatcher(lambda x: x == \" \",\n",
      " |  ...                     \"private Thread currentThread;\",\n",
      " |  ...                     \"private volatile Thread currentThread;\")\n",
      " |  >>>\n",
      " |  \n",
      " |  .ratio() returns a float in [0, 1], measuring the \"similarity\" of the\n",
      " |  sequences.  As a rule of thumb, a .ratio() value over 0.6 means the\n",
      " |  sequences are close matches:\n",
      " |  \n",
      " |  >>> print(round(s.ratio(), 3))\n",
      " |  0.866\n",
      " |  >>>\n",
      " |  \n",
      " |  If you're only interested in where the sequences match,\n",
      " |  .get_matching_blocks() is handy:\n",
      " |  \n",
      " |  >>> for block in s.get_matching_blocks():\n",
      " |  ...     print(\"a[%d] and b[%d] match for %d elements\" % block)\n",
      " |  a[0] and b[0] match for 8 elements\n",
      " |  a[8] and b[17] match for 21 elements\n",
      " |  a[29] and b[38] match for 0 elements\n",
      " |  \n",
      " |  Note that the last tuple returned by .get_matching_blocks() is always a\n",
      " |  dummy, (len(a), len(b), 0), and this is the only case in which the last\n",
      " |  tuple element (number of elements matched) is 0.\n",
      " |  \n",
      " |  If you want to know how to change the first sequence into the second,\n",
      " |  use .get_opcodes():\n",
      " |  \n",
      " |  >>> for opcode in s.get_opcodes():\n",
      " |  ...     print(\"%6s a[%d:%d] b[%d:%d]\" % opcode)\n",
      " |   equal a[0:8] b[0:8]\n",
      " |  insert a[8:8] b[8:17]\n",
      " |   equal a[8:29] b[17:38]\n",
      " |  \n",
      " |  See the Differ class for a fancy human-friendly file differencer, which\n",
      " |  uses SequenceMatcher both to compare sequences of lines, and to compare\n",
      " |  sequences of characters within similar (near-matching) lines.\n",
      " |  \n",
      " |  See also function get_close_matches() in this module, which shows how\n",
      " |  simple code building on SequenceMatcher can be used to do useful work.\n",
      " |  \n",
      " |  Timing:  Basic R-O is cubic time worst case and quadratic time expected\n",
      " |  case.  SequenceMatcher is quadratic time for the worst case and has\n",
      " |  expected-case behavior dependent in a complicated way on how many\n",
      " |  elements the sequences have in common; best case time is linear.\n",
      " |  \n",
      " |  Methods:\n",
      " |  \n",
      " |  __init__(isjunk=None, a='', b='')\n",
      " |      Construct a SequenceMatcher.\n",
      " |  \n",
      " |  set_seqs(a, b)\n",
      " |      Set the two sequences to be compared.\n",
      " |  \n",
      " |  set_seq1(a)\n",
      " |      Set the first sequence to be compared.\n",
      " |  \n",
      " |  set_seq2(b)\n",
      " |      Set the second sequence to be compared.\n",
      " |  \n",
      " |  find_longest_match(alo, ahi, blo, bhi)\n",
      " |      Find longest matching block in a[alo:ahi] and b[blo:bhi].\n",
      " |  \n",
      " |  get_matching_blocks()\n",
      " |      Return list of triples describing matching subsequences.\n",
      " |  \n",
      " |  get_opcodes()\n",
      " |      Return list of 5-tuples describing how to turn a into b.\n",
      " |  \n",
      " |  ratio()\n",
      " |      Return a measure of the sequences' similarity (float in [0,1]).\n",
      " |  \n",
      " |  quick_ratio()\n",
      " |      Return an upper bound on .ratio() relatively quickly.\n",
      " |  \n",
      " |  real_quick_ratio()\n",
      " |      Return an upper bound on ratio() very quickly.\n",
      " |  \n",
      " |  Methods defined here:\n",
      " |  \n",
      " |  __init__(self, isjunk=None, a='', b='', autojunk=True)\n",
      " |      Construct a SequenceMatcher.\n",
      " |      \n",
      " |      Optional arg isjunk is None (the default), or a one-argument\n",
      " |      function that takes a sequence element and returns true iff the\n",
      " |      element is junk.  None is equivalent to passing \"lambda x: 0\", i.e.\n",
      " |      no elements are considered to be junk.  For example, pass\n",
      " |          lambda x: x in \" \\t\"\n",
      " |      if you're comparing lines as sequences of characters, and don't\n",
      " |      want to synch up on blanks or hard tabs.\n",
      " |      \n",
      " |      Optional arg a is the first of two sequences to be compared.  By\n",
      " |      default, an empty string.  The elements of a must be hashable.  See\n",
      " |      also .set_seqs() and .set_seq1().\n",
      " |      \n",
      " |      Optional arg b is the second of two sequences to be compared.  By\n",
      " |      default, an empty string.  The elements of b must be hashable. See\n",
      " |      also .set_seqs() and .set_seq2().\n",
      " |      \n",
      " |      Optional arg autojunk should be set to False to disable the\n",
      " |      \"automatic junk heuristic\" that treats popular elements as junk\n",
      " |      (see module documentation for more information).\n",
      " |  \n",
      " |  find_longest_match(self, alo, ahi, blo, bhi)\n",
      " |      Find longest matching block in a[alo:ahi] and b[blo:bhi].\n",
      " |      \n",
      " |      If isjunk is not defined:\n",
      " |      \n",
      " |      Return (i,j,k) such that a[i:i+k] is equal to b[j:j+k], where\n",
      " |          alo <= i <= i+k <= ahi\n",
      " |          blo <= j <= j+k <= bhi\n",
      " |      and for all (i',j',k') meeting those conditions,\n",
      " |          k >= k'\n",
      " |          i <= i'\n",
      " |          and if i == i', j <= j'\n",
      " |      \n",
      " |      In other words, of all maximal matching blocks, return one that\n",
      " |      starts earliest in a, and of all those maximal matching blocks that\n",
      " |      start earliest in a, return the one that starts earliest in b.\n",
      " |      \n",
      " |      >>> s = SequenceMatcher(None, \" abcd\", \"abcd abcd\")\n",
      " |      >>> s.find_longest_match(0, 5, 0, 9)\n",
      " |      Match(a=0, b=4, size=5)\n",
      " |      \n",
      " |      If isjunk is defined, first the longest matching block is\n",
      " |      determined as above, but with the additional restriction that no\n",
      " |      junk element appears in the block.  Then that block is extended as\n",
      " |      far as possible by matching (only) junk elements on both sides.  So\n",
      " |      the resulting block never matches on junk except as identical junk\n",
      " |      happens to be adjacent to an \"interesting\" match.\n",
      " |      \n",
      " |      Here's the same example as before, but considering blanks to be\n",
      " |      junk.  That prevents \" abcd\" from matching the \" abcd\" at the tail\n",
      " |      end of the second sequence directly.  Instead only the \"abcd\" can\n",
      " |      match, and matches the leftmost \"abcd\" in the second sequence:\n",
      " |      \n",
      " |      >>> s = SequenceMatcher(lambda x: x==\" \", \" abcd\", \"abcd abcd\")\n",
      " |      >>> s.find_longest_match(0, 5, 0, 9)\n",
      " |      Match(a=1, b=0, size=4)\n",
      " |      \n",
      " |      If no blocks match, return (alo, blo, 0).\n",
      " |      \n",
      " |      >>> s = SequenceMatcher(None, \"ab\", \"c\")\n",
      " |      >>> s.find_longest_match(0, 2, 0, 1)\n",
      " |      Match(a=0, b=0, size=0)\n",
      " |  \n",
      " |  get_grouped_opcodes(self, n=3)\n",
      " |      Isolate change clusters by eliminating ranges with no changes.\n",
      " |      \n",
      " |      Return a generator of groups with up to n lines of context.\n",
      " |      Each group is in the same format as returned by get_opcodes().\n",
      " |      \n",
      " |      >>> from pprint import pprint\n",
      " |      >>> a = list(map(str, range(1,40)))\n",
      " |      >>> b = a[:]\n",
      " |      >>> b[8:8] = ['i']     # Make an insertion\n",
      " |      >>> b[20] += 'x'       # Make a replacement\n",
      " |      >>> b[23:28] = []      # Make a deletion\n",
      " |      >>> b[30] += 'y'       # Make another replacement\n",
      " |      >>> pprint(list(SequenceMatcher(None,a,b).get_grouped_opcodes()))\n",
      " |      [[('equal', 5, 8, 5, 8), ('insert', 8, 8, 8, 9), ('equal', 8, 11, 9, 12)],\n",
      " |       [('equal', 16, 19, 17, 20),\n",
      " |        ('replace', 19, 20, 20, 21),\n",
      " |        ('equal', 20, 22, 21, 23),\n",
      " |        ('delete', 22, 27, 23, 23),\n",
      " |        ('equal', 27, 30, 23, 26)],\n",
      " |       [('equal', 31, 34, 27, 30),\n",
      " |        ('replace', 34, 35, 30, 31),\n",
      " |        ('equal', 35, 38, 31, 34)]]\n",
      " |  \n",
      " |  get_matching_blocks(self)\n",
      " |      Return list of triples describing matching subsequences.\n",
      " |      \n",
      " |      Each triple is of the form (i, j, n), and means that\n",
      " |      a[i:i+n] == b[j:j+n].  The triples are monotonically increasing in\n",
      " |      i and in j.  New in Python 2.5, it's also guaranteed that if\n",
      " |      (i, j, n) and (i', j', n') are adjacent triples in the list, and\n",
      " |      the second is not the last triple in the list, then i+n != i' or\n",
      " |      j+n != j'.  IOW, adjacent triples never describe adjacent equal\n",
      " |      blocks.\n",
      " |      \n",
      " |      The last triple is a dummy, (len(a), len(b), 0), and is the only\n",
      " |      triple with n==0.\n",
      " |      \n",
      " |      >>> s = SequenceMatcher(None, \"abxcd\", \"abcd\")\n",
      " |      >>> list(s.get_matching_blocks())\n",
      " |      [Match(a=0, b=0, size=2), Match(a=3, b=2, size=2), Match(a=5, b=4, size=0)]\n",
      " |  \n",
      " |  get_opcodes(self)\n",
      " |      Return list of 5-tuples describing how to turn a into b.\n",
      " |      \n",
      " |      Each tuple is of the form (tag, i1, i2, j1, j2).  The first tuple\n",
      " |      has i1 == j1 == 0, and remaining tuples have i1 == the i2 from the\n",
      " |      tuple preceding it, and likewise for j1 == the previous j2.\n",
      " |      \n",
      " |      The tags are strings, with these meanings:\n",
      " |      \n",
      " |      'replace':  a[i1:i2] should be replaced by b[j1:j2]\n",
      " |      'delete':   a[i1:i2] should be deleted.\n",
      " |                  Note that j1==j2 in this case.\n",
      " |      'insert':   b[j1:j2] should be inserted at a[i1:i1].\n",
      " |                  Note that i1==i2 in this case.\n",
      " |      'equal':    a[i1:i2] == b[j1:j2]\n",
      " |      \n",
      " |      >>> a = \"qabxcd\"\n",
      " |      >>> b = \"abycdf\"\n",
      " |      >>> s = SequenceMatcher(None, a, b)\n",
      " |      >>> for tag, i1, i2, j1, j2 in s.get_opcodes():\n",
      " |      ...    print((\"%7s a[%d:%d] (%s) b[%d:%d] (%s)\" %\n",
      " |      ...           (tag, i1, i2, a[i1:i2], j1, j2, b[j1:j2])))\n",
      " |       delete a[0:1] (q) b[0:0] ()\n",
      " |        equal a[1:3] (ab) b[0:2] (ab)\n",
      " |      replace a[3:4] (x) b[2:3] (y)\n",
      " |        equal a[4:6] (cd) b[3:5] (cd)\n",
      " |       insert a[6:6] () b[5:6] (f)\n",
      " |  \n",
      " |  quick_ratio(self)\n",
      " |      Return an upper bound on ratio() relatively quickly.\n",
      " |      \n",
      " |      This isn't defined beyond that it is an upper bound on .ratio(), and\n",
      " |      is faster to compute.\n",
      " |  \n",
      " |  ratio(self)\n",
      " |      Return a measure of the sequences' similarity (float in [0,1]).\n",
      " |      \n",
      " |      Where T is the total number of elements in both sequences, and\n",
      " |      M is the number of matches, this is 2.0*M / T.\n",
      " |      Note that this is 1 if the sequences are identical, and 0 if\n",
      " |      they have nothing in common.\n",
      " |      \n",
      " |      .ratio() is expensive to compute if you haven't already computed\n",
      " |      .get_matching_blocks() or .get_opcodes(), in which case you may\n",
      " |      want to try .quick_ratio() or .real_quick_ratio() first to get an\n",
      " |      upper bound.\n",
      " |      \n",
      " |      >>> s = SequenceMatcher(None, \"abcd\", \"bcde\")\n",
      " |      >>> s.ratio()\n",
      " |      0.75\n",
      " |      >>> s.quick_ratio()\n",
      " |      0.75\n",
      " |      >>> s.real_quick_ratio()\n",
      " |      1.0\n",
      " |  \n",
      " |  real_quick_ratio(self)\n",
      " |      Return an upper bound on ratio() very quickly.\n",
      " |      \n",
      " |      This isn't defined beyond that it is an upper bound on .ratio(), and\n",
      " |      is faster to compute than either .ratio() or .quick_ratio().\n",
      " |  \n",
      " |  set_seq1(self, a)\n",
      " |      Set the first sequence to be compared.\n",
      " |      \n",
      " |      The second sequence to be compared is not changed.\n",
      " |      \n",
      " |      >>> s = SequenceMatcher(None, \"abcd\", \"bcde\")\n",
      " |      >>> s.ratio()\n",
      " |      0.75\n",
      " |      >>> s.set_seq1(\"bcde\")\n",
      " |      >>> s.ratio()\n",
      " |      1.0\n",
      " |      >>>\n",
      " |      \n",
      " |      SequenceMatcher computes and caches detailed information about the\n",
      " |      second sequence, so if you want to compare one sequence S against\n",
      " |      many sequences, use .set_seq2(S) once and call .set_seq1(x)\n",
      " |      repeatedly for each of the other sequences.\n",
      " |      \n",
      " |      See also set_seqs() and set_seq2().\n",
      " |  \n",
      " |  set_seq2(self, b)\n",
      " |      Set the second sequence to be compared.\n",
      " |      \n",
      " |      The first sequence to be compared is not changed.\n",
      " |      \n",
      " |      >>> s = SequenceMatcher(None, \"abcd\", \"bcde\")\n",
      " |      >>> s.ratio()\n",
      " |      0.75\n",
      " |      >>> s.set_seq2(\"abcd\")\n",
      " |      >>> s.ratio()\n",
      " |      1.0\n",
      " |      >>>\n",
      " |      \n",
      " |      SequenceMatcher computes and caches detailed information about the\n",
      " |      second sequence, so if you want to compare one sequence S against\n",
      " |      many sequences, use .set_seq2(S) once and call .set_seq1(x)\n",
      " |      repeatedly for each of the other sequences.\n",
      " |      \n",
      " |      See also set_seqs() and set_seq1().\n",
      " |  \n",
      " |  set_seqs(self, a, b)\n",
      " |      Set the two sequences to be compared.\n",
      " |      \n",
      " |      >>> s = SequenceMatcher()\n",
      " |      >>> s.set_seqs(\"abcd\", \"bcde\")\n",
      " |      >>> s.ratio()\n",
      " |      0.75\n",
      " |  \n",
      " |  ----------------------------------------------------------------------\n",
      " |  Data descriptors defined here:\n",
      " |  \n",
      " |  __dict__\n",
      " |      dictionary for instance variables (if defined)\n",
      " |  \n",
      " |  __weakref__\n",
      " |      list of weak references to the object (if defined)\n",
      "\n"
     ]
    }
   ],
   "source": [
    "help(SequenceMatcher)"
   ]
  },
  {
   "cell_type": "markdown",
   "metadata": {},
   "source": [
    "Все insert-операции - вставки разбивающих символов. Вычленим их индексы:"
   ]
  },
  {
   "cell_type": "code",
   "execution_count": 87,
   "metadata": {},
   "outputs": [
    {
     "data": {
      "text/plain": [
       "[(94, 96),\n",
       " (163, 165),\n",
       " (269, 271),\n",
       " (288, 294),\n",
       " (308, 310),\n",
       " (334, 338),\n",
       " (369, 371),\n",
       " (419, 421),\n",
       " (445, 451),\n",
       " (490, 493),\n",
       " (494, 497),\n",
       " (704, 705),\n",
       " (897, 898),\n",
       " (961, 963),\n",
       " (1127, 1128),\n",
       " (1381, 1382),\n",
       " (1668, 1669),\n",
       " (1856, 1857),\n",
       " (2128, 2130),\n",
       " (2282, 2283),\n",
       " (2472, 2473),\n",
       " (2841, 2842),\n",
       " (3017, 3019),\n",
       " (3408, 3409),\n",
       " (3669, 3670),\n",
       " (3780, 3781),\n",
       " (3831, 3832),\n",
       " (4111, 4112),\n",
       " (4395, 4398)]"
      ]
     },
     "execution_count": 87,
     "metadata": {},
     "output_type": "execute_result"
    }
   ],
   "source": [
    "split_seqs = []\n",
    "\n",
    "for op in matcher.get_opcodes():\n",
    "    if op[0] == 'insert':\n",
    "        split_seqs.append((op[3], op[4]))\n",
    "\n",
    "split_seqs"
   ]
  },
  {
   "cell_type": "markdown",
   "metadata": {},
   "source": [
    "Проверим, что в разборе у нас получились только операции equal и insert:"
   ]
  },
  {
   "cell_type": "code",
   "execution_count": 88,
   "metadata": {},
   "outputs": [
    {
     "data": {
      "text/plain": [
       "{'equal', 'insert'}"
      ]
     },
     "execution_count": 88,
     "metadata": {},
     "output_type": "execute_result"
    }
   ],
   "source": [
    "set([i[0] for i in matcher.get_opcodes()])"
   ]
  },
  {
   "cell_type": "markdown",
   "metadata": {},
   "source": [
    "Для каждого разбивающего символа будем записывать 1, для кажого неразбивающего - 0. Так как в тексте может идти подряд несколько переносов, то разбивающих символов получится больше, чем предложений."
   ]
  },
  {
   "cell_type": "code",
   "execution_count": 89,
   "metadata": {},
   "outputs": [],
   "source": [
    "retrieve_idxs = lambda ops: [(op[3], op[4]) for op in ops if op[0] == 'insert']\n",
    "\n",
    "def get_true_and_estimated(raw_text, true_tokenized, auto_tokenized):   \n",
    "    n = len(raw_text)\n",
    "    idxs_true = retrieve_idxs(SequenceMatcher(None, ''.join(true_tokenized), raw_text).get_opcodes())\n",
    "    idxs_auto = retrieve_idxs(SequenceMatcher(None, ''.join(auto_tokenized), raw_text).get_opcodes())\n",
    "    return fill_spans(n, idxs_true), fill_spans(n, idxs_auto)\n",
    "\n",
    "def fill_spans(n, idxs):\n",
    "    \n",
    "    y_values = [0 for i in range(n)]\n",
    "    curr_span_id = 0\n",
    "    \n",
    "    for i in range(n):\n",
    "        if i >= idxs[curr_span_id][1]:\n",
    "            if curr_span_id == len(idxs)-1:\n",
    "                break\n",
    "            else:\n",
    "                curr_span_id += 1\n",
    "        if i >= idxs[curr_span_id][0] and i < idxs[curr_span_id][1]:\n",
    "            y_values[i] = 1\n",
    "    \n",
    "    return y_values"
   ]
  },
  {
   "cell_type": "code",
   "execution_count": 90,
   "metadata": {},
   "outputs": [],
   "source": [
    "true, estimated = get_true_and_estimated(raw_text, sent_tokenized, auto_tokenized1)"
   ]
  },
  {
   "cell_type": "code",
   "execution_count": 91,
   "metadata": {},
   "outputs": [
    {
     "data": {
      "text/plain": [
       "57"
      ]
     },
     "execution_count": 91,
     "metadata": {},
     "output_type": "execute_result"
    }
   ],
   "source": [
    "true.count(1)"
   ]
  },
  {
   "cell_type": "code",
   "execution_count": 92,
   "metadata": {},
   "outputs": [
    {
     "data": {
      "text/plain": [
       "37"
      ]
     },
     "execution_count": 92,
     "metadata": {},
     "output_type": "execute_result"
    }
   ],
   "source": [
    "estimated.count(1)"
   ]
  },
  {
   "cell_type": "code",
   "execution_count": 94,
   "metadata": {},
   "outputs": [
    {
     "name": "stdout",
     "output_type": "stream",
     "text": [
      "             precision    recall  f1-score   support\n",
      "\n",
      "          0       0.99      1.00      1.00      4386\n",
      "          1       0.76      0.49      0.60        57\n",
      "\n",
      "avg / total       0.99      0.99      0.99      4443\n",
      "\n"
     ]
    }
   ],
   "source": [
    "print(classification_report(true, estimated))"
   ]
  },
  {
   "cell_type": "code",
   "execution_count": 95,
   "metadata": {},
   "outputs": [
    {
     "data": {
      "text/plain": [
       "0.9914472203466127"
      ]
     },
     "execution_count": 95,
     "metadata": {},
     "output_type": "execute_result"
    }
   ],
   "source": [
    "accuracy_score(true, estimated)"
   ]
  },
  {
   "cell_type": "markdown",
   "metadata": {},
   "source": [
    "Теперь попробуем со встроенным в NLTK токенизатолром:"
   ]
  },
  {
   "cell_type": "code",
   "execution_count": 96,
   "metadata": {},
   "outputs": [],
   "source": [
    "from nltk.tokenize.punkt import PunktSentenceTokenizer, PunktTrainer"
   ]
  },
  {
   "cell_type": "code",
   "execution_count": 99,
   "metadata": {},
   "outputs": [],
   "source": [
    "trainer = PunktTrainer()\n",
    "trainer.INCLUDE_ALL_COLLOCS = True\n",
    "trainer.train(raw_text)\n",
    " \n",
    "tokenizer = PunktSentenceTokenizer(trainer.get_params())"
   ]
  },
  {
   "cell_type": "markdown",
   "metadata": {},
   "source": [
    "Посмотрим на выученные сокращения:"
   ]
  },
  {
   "cell_type": "code",
   "execution_count": 100,
   "metadata": {},
   "outputs": [
    {
     "name": "stdout",
     "output_type": "stream",
     "text": [
      "{'г', 'ф', 'т', 'м', 'стр', 'м.—л', 'д'}\n"
     ]
    }
   ],
   "source": [
    "print(tokenizer._params.abbrev_types)"
   ]
  },
  {
   "cell_type": "markdown",
   "metadata": {},
   "source": [
    "Да, не так уж много сокращений выучил токенизатор"
   ]
  },
  {
   "cell_type": "markdown",
   "metadata": {},
   "source": [
    "Теперь при помощи обученного токенизатора разобьём текст на предложения:"
   ]
  },
  {
   "cell_type": "code",
   "execution_count": 101,
   "metadata": {},
   "outputs": [
    {
     "data": {
      "text/plain": [
       "['Спасибо, что скачали книгу в бесплатной электронной библиотеке Royallib.ru: http://royallib.ru\\n\\nВсе книги автора: http://royallib.ru/author/dostoevskiy_fedor_.html\\n\\nЭта же книга в других форматах: http://royallib.ru/book/dostoevskiy_fedor_/prestuplenie_i_nakazanie.html\\n\\nПриятного чтения!',\n",
       " 'Ф. ДОСТОЕВСКИЙ\\n\\nПРЕСТУПЛЕНИЕ И НАКАЗАНИЕ\\n\\n\\n\\nРОМАН В ШЕСТИ ЧАСТЯХ С ЭПИЛОГОМ\\n\\nВступительная статья и примечания Г. Фридлендера\\n\\nИллюстрации Д. Шмаринова\\n\\n\\n\\n\\n\\n«ПРЕСТУПЛЕНИЕ И НАКАЗАНИЕ» ДОСТОЕВСКОГО\\n\\n\\n1\\n\\n\\nРоман Ф. М. Достоевского «Преступление и наказание» принадлежит к числу тех великих произведений мировой литературы, ценность которых со временем не умаляется, но возрастает для каждого следующего поколения.',\n",
       " 'Подобно «Божественной Комедии», «Гамлету», «Фаусту», «Войне и миру» или «Анне Карениной», «Преступление и наказание» давно сделалось во всем мире одной из самых любимых и широко читаемых книг.',\n",
       " 'Образ Родиона Раскольникова стал вечным спутником человечества.',\n",
       " 'В центре «Преступления и наказания» находится тот болезненный и острый вопрос, который явился одним из главных вопросов для всей реалистической литературы XIX века.',\n",
       " 'Это — вопрос о возможных путях развития человеческой личности в тех новых условиях жизни, которые сложились в Западной Европе после французской буржуазной революции XVIII века и которые после крестьянской реформы 1861 года установились также и в России.',\n",
       " 'Романисты-просветители, еще не видевшие (по выражению Ленина) противоречий того строя жизни, который вырастал из крепостного,[1 - В.',\n",
       " 'И. Ленин, Полное собрание сочинений, т. 2, стр.',\n",
       " '520.]',\n",
       " 'верили, что уничтожение абсолютизма и сословности сделает возможным всестороннее развитие человека.',\n",
       " 'Но после победы буржуазии стало очевидным, что вера в свободное, гармоническое развитие личности в условиях общества, основанного на эгоистической «войне всех против всех», была иллюзией.',\n",
       " 'Бальзак, Стендаль, Диккенс, Теккерей, Флобер и другие западноевропейские романисты блестяще показали, что буржуазное общество хотя и способствует пробуждению личности, вместе с тем является величайшим препятствием для ее развития, ведет к ее духовной и физической гибели.',\n",
       " 'Великие русские писатели XIX века, начиная с Пушкина, так же, как их современники на Западе, высоко подняли знамя борьбы за свободное развитие личности.',\n",
       " 'Но Пушкин в «Цыганах», «Евгении Онегине», «Пиковой даме» отчетливо показал и то, что индивидуалистическая жизненная философия и мораль личности, «глядящей в Наполеоны», суха и бесчеловечна.',\n",
       " 'Со времен великого поэта в русской литературе получили выражение две, на первый взгляд противоположные между собой, но в действительности взаимно связанные, дополняющие друг друга темы: тема защиты прав личности и тема критического анализа и развенчания принципов буржуазно-индивидуалистической философии и морали — морали человека, который «для себя лишь» хочет воли.',\n",
       " 'Органическое объединение в «Преступлении и наказании» этих двух тем определяет глубокий гуманистический пафос этого романа, его неумирающее значение для настоящего и будущего.',\n",
       " 'Достоевский писал в конце своей жизни, что его заветной мечтой как человека и писателя всегда оставалось стремление помочь «девяти десятым» человечества, угнетенным и обездоленным в его эпоху в России и во всем мире, обрести достойное человека существование, завоевать путь в «царство мысли и света».',\n",
       " '[2 - Ф. М. Достоевский, Дневник писателя за 1873 и 1876 годы, ГИЗ, М.—Л. 1929, стр.',\n",
       " '173.]',\n",
       " 'Во всей реалистической прозе XIX века нет другого произведения, которое с таким бесстрашием и такою поистине шекспировскою мощью изображало картины страданий широких масс, вызванные нищетой, социальным неравенством и угнетением, как «Преступление и наказание».',\n",
       " 'Но роман Достоевского — не только полное захватывающего трагизма изображение обездоленности и социального зла.',\n",
       " 'Это — и апелляция к человеческой совести и разуму.',\n",
       " 'Вместе со своим главным героем Достоевский гневно отвергает как оскорбительные для человека взгляды многих (в том числе ряда религиозных) мыслителей своей эпохи, которые полагали, что страдания и нищета неизбежны во всяком обществе, что они составляют извечный удел человечества.',\n",
       " 'Великий русский писатель страстно защищает идею нравственного достоинства человека, который не хочет оставаться ничтожной «вошью», не желает безмолвно подчиняться и терпеть, но всем своим существом восстает против общественной несправедливости, не хочет и не может примириться с нею.',\n",
       " 'И вместе с тем Достоевский утверждает другое.']"
      ]
     },
     "execution_count": 101,
     "metadata": {},
     "output_type": "execute_result"
    }
   ],
   "source": [
    "nltk_tokenized = tokenizer.tokenize(raw_text)\n",
    "nltk_tokenized"
   ]
  },
  {
   "cell_type": "markdown",
   "metadata": {},
   "source": [
    "И оценим качество разбиения:"
   ]
  },
  {
   "cell_type": "code",
   "execution_count": 107,
   "metadata": {},
   "outputs": [],
   "source": [
    "true1, estimated1 = get_true_and_estimated(raw_text, sent_tokenized, nltk_tokenized)"
   ]
  },
  {
   "cell_type": "code",
   "execution_count": 108,
   "metadata": {},
   "outputs": [
    {
     "name": "stdout",
     "output_type": "stream",
     "text": [
      "             precision    recall  f1-score   support\n",
      "\n",
      "          0       0.99      1.00      1.00      4386\n",
      "          1       0.88      0.51      0.64        57\n",
      "\n",
      "avg / total       0.99      0.99      0.99      4443\n",
      "\n"
     ]
    }
   ],
   "source": [
    "print(classification_report(true1, estimated1))"
   ]
  },
  {
   "cell_type": "markdown",
   "metadata": {},
   "source": [
    "Результаты лучше, чем для разбиения по регулярному выражению - повысились precision и recall у единицы"
   ]
  },
  {
   "cell_type": "markdown",
   "metadata": {},
   "source": [
    "Теперь посмотрим на accuracy:"
   ]
  },
  {
   "cell_type": "code",
   "execution_count": 109,
   "metadata": {},
   "outputs": [
    {
     "data": {
      "text/plain": [
       "0.9927976592392528"
      ]
     },
     "execution_count": 109,
     "metadata": {},
     "output_type": "execute_result"
    }
   ],
   "source": [
    "accuracy_score(true1, estimated1)"
   ]
  },
  {
   "cell_type": "markdown",
   "metadata": {},
   "source": [
    "Accuracy повысилась - было 0.9914, а стало 0.9928"
   ]
  },
  {
   "cell_type": "markdown",
   "metadata": {},
   "source": [
    "Добавим в сокращения инициалы, которые токенизатор не распознал, посмотрим на разбиение и на то, как изменятся метрики качества:"
   ]
  },
  {
   "cell_type": "code",
   "execution_count": 112,
   "metadata": {},
   "outputs": [],
   "source": [
    "tokenizer._params.abbrev_types.add('в')\n",
    "tokenizer._params.abbrev_types.add('и')"
   ]
  },
  {
   "cell_type": "code",
   "execution_count": 113,
   "metadata": {},
   "outputs": [
    {
     "data": {
      "text/plain": [
       "['Спасибо, что скачали книгу в бесплатной электронной библиотеке Royallib.ru: http://royallib.ru\\n\\nВсе книги автора: http://royallib.ru/author/dostoevskiy_fedor_.html\\n\\nЭта же книга в других форматах: http://royallib.ru/book/dostoevskiy_fedor_/prestuplenie_i_nakazanie.html\\n\\nПриятного чтения!',\n",
       " 'Ф. ДОСТОЕВСКИЙ\\n\\nПРЕСТУПЛЕНИЕ И НАКАЗАНИЕ\\n\\n\\n\\nРОМАН В ШЕСТИ ЧАСТЯХ С ЭПИЛОГОМ\\n\\nВступительная статья и примечания Г. Фридлендера\\n\\nИллюстрации Д. Шмаринова\\n\\n\\n\\n\\n\\n«ПРЕСТУПЛЕНИЕ И НАКАЗАНИЕ» ДОСТОЕВСКОГО\\n\\n\\n1\\n\\n\\nРоман Ф. М. Достоевского «Преступление и наказание» принадлежит к числу тех великих произведений мировой литературы, ценность которых со временем не умаляется, но возрастает для каждого следующего поколения.',\n",
       " 'Подобно «Божественной Комедии», «Гамлету», «Фаусту», «Войне и миру» или «Анне Карениной», «Преступление и наказание» давно сделалось во всем мире одной из самых любимых и широко читаемых книг.',\n",
       " 'Образ Родиона Раскольникова стал вечным спутником человечества.',\n",
       " 'В центре «Преступления и наказания» находится тот болезненный и острый вопрос, который явился одним из главных вопросов для всей реалистической литературы XIX века.',\n",
       " 'Это — вопрос о возможных путях развития человеческой личности в тех новых условиях жизни, которые сложились в Западной Европе после французской буржуазной революции XVIII века и которые после крестьянской реформы 1861 года установились также и в России.',\n",
       " 'Романисты-просветители, еще не видевшие (по выражению Ленина) противоречий того строя жизни, который вырастал из крепостного,[1 - В. И. Ленин, Полное собрание сочинений, т. 2, стр.',\n",
       " '520.]',\n",
       " 'верили, что уничтожение абсолютизма и сословности сделает возможным всестороннее развитие человека.',\n",
       " 'Но после победы буржуазии стало очевидным, что вера в свободное, гармоническое развитие личности в условиях общества, основанного на эгоистической «войне всех против всех», была иллюзией.',\n",
       " 'Бальзак, Стендаль, Диккенс, Теккерей, Флобер и другие западноевропейские романисты блестяще показали, что буржуазное общество хотя и способствует пробуждению личности, вместе с тем является величайшим препятствием для ее развития, ведет к ее духовной и физической гибели.',\n",
       " 'Великие русские писатели XIX века, начиная с Пушкина, так же, как их современники на Западе, высоко подняли знамя борьбы за свободное развитие личности.',\n",
       " 'Но Пушкин в «Цыганах», «Евгении Онегине», «Пиковой даме» отчетливо показал и то, что индивидуалистическая жизненная философия и мораль личности, «глядящей в Наполеоны», суха и бесчеловечна.',\n",
       " 'Со времен великого поэта в русской литературе получили выражение две, на первый взгляд противоположные между собой, но в действительности взаимно связанные, дополняющие друг друга темы: тема защиты прав личности и тема критического анализа и развенчания принципов буржуазно-индивидуалистической философии и морали — морали человека, который «для себя лишь» хочет воли.',\n",
       " 'Органическое объединение в «Преступлении и наказании» этих двух тем определяет глубокий гуманистический пафос этого романа, его неумирающее значение для настоящего и будущего.',\n",
       " 'Достоевский писал в конце своей жизни, что его заветной мечтой как человека и писателя всегда оставалось стремление помочь «девяти десятым» человечества, угнетенным и обездоленным в его эпоху в России и во всем мире, обрести достойное человека существование, завоевать путь в «царство мысли и света».',\n",
       " '[2 - Ф. М. Достоевский, Дневник писателя за 1873 и 1876 годы, ГИЗ, М.—Л. 1929, стр.',\n",
       " '173.]',\n",
       " 'Во всей реалистической прозе XIX века нет другого произведения, которое с таким бесстрашием и такою поистине шекспировскою мощью изображало картины страданий широких масс, вызванные нищетой, социальным неравенством и угнетением, как «Преступление и наказание».',\n",
       " 'Но роман Достоевского — не только полное захватывающего трагизма изображение обездоленности и социального зла.',\n",
       " 'Это — и апелляция к человеческой совести и разуму.',\n",
       " 'Вместе со своим главным героем Достоевский гневно отвергает как оскорбительные для человека взгляды многих (в том числе ряда религиозных) мыслителей своей эпохи, которые полагали, что страдания и нищета неизбежны во всяком обществе, что они составляют извечный удел человечества.',\n",
       " 'Великий русский писатель страстно защищает идею нравственного достоинства человека, который не хочет оставаться ничтожной «вошью», не желает безмолвно подчиняться и терпеть, но всем своим существом восстает против общественной несправедливости, не хочет и не может примириться с нею.',\n",
       " 'И вместе с тем Достоевский утверждает другое.']"
      ]
     },
     "execution_count": 113,
     "metadata": {},
     "output_type": "execute_result"
    }
   ],
   "source": [
    "new_nltk_tokenized = tokenizer.tokenize(raw_text)\n",
    "new_nltk_tokenized"
   ]
  },
  {
   "cell_type": "markdown",
   "metadata": {},
   "source": [
    "Видим, что токенизатор больше не считает инициал В. концом предложения, но продолжает ошибаться на \"стр\", хотя это сокращение изначально было в списке."
   ]
  },
  {
   "cell_type": "markdown",
   "metadata": {},
   "source": [
    "А теперь посмотрим на качество:"
   ]
  },
  {
   "cell_type": "code",
   "execution_count": 117,
   "metadata": {},
   "outputs": [],
   "source": [
    "true2, estimated2 = get_true_and_estimated(raw_text, sent_tokenized, new_nltk_tokenized)"
   ]
  },
  {
   "cell_type": "code",
   "execution_count": 118,
   "metadata": {},
   "outputs": [
    {
     "name": "stdout",
     "output_type": "stream",
     "text": [
      "             precision    recall  f1-score   support\n",
      "\n",
      "          0       0.99      1.00      1.00      4386\n",
      "          1       0.91      0.51      0.65        57\n",
      "\n",
      "avg / total       0.99      0.99      0.99      4443\n",
      "\n"
     ]
    }
   ],
   "source": [
    "print(classification_report(true2, estimated2))"
   ]
  },
  {
   "cell_type": "markdown",
   "metadata": {},
   "source": [
    "Видим, что Precision для единицы изменился - от 0.88 до 0.91, так как стало учитываться больше разделяющих символов."
   ]
  },
  {
   "cell_type": "code",
   "execution_count": 119,
   "metadata": {},
   "outputs": [
    {
     "data": {
      "text/plain": [
       "0.9930227323880261"
      ]
     },
     "execution_count": 119,
     "metadata": {},
     "output_type": "execute_result"
    }
   ],
   "source": [
    "accuracy_score(true2, estimated2)"
   ]
  },
  {
   "cell_type": "markdown",
   "metadata": {},
   "source": [
    "Также посмотрим, насколько изменилось качество при добавлении аббревиатур вручную:"
   ]
  },
  {
   "cell_type": "code",
   "execution_count": 120,
   "metadata": {},
   "outputs": [
    {
     "data": {
      "text/plain": [
       "0.00022507314877329154"
      ]
     },
     "execution_count": 120,
     "metadata": {},
     "output_type": "execute_result"
    }
   ],
   "source": [
    "accuracy_score(true2, estimated2) - accuracy_score(true1, estimated1)"
   ]
  },
  {
   "cell_type": "code",
   "execution_count": null,
   "metadata": {},
   "outputs": [],
   "source": []
  }
 ],
 "metadata": {
  "kernelspec": {
   "display_name": "Python 3",
   "language": "python",
   "name": "python3"
  },
  "language_info": {
   "codemirror_mode": {
    "name": "ipython",
    "version": 3
   },
   "file_extension": ".py",
   "mimetype": "text/x-python",
   "name": "python",
   "nbconvert_exporter": "python",
   "pygments_lexer": "ipython3",
   "version": "3.6.4"
  }
 },
 "nbformat": 4,
 "nbformat_minor": 2
}
